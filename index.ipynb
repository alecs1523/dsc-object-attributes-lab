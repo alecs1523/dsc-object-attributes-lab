{
  "cells": [
    {
      "cell_type": "markdown",
      "metadata": {
        "id": "4YJJpoWf_BAl"
      },
      "source": [
        "# Object Attributes - Lab"
      ]
    },
    {
      "cell_type": "markdown",
      "metadata": {
        "id": "YEdTe9gc_BAr"
      },
      "source": [
        "## Introduction\n",
        "In this lab, you'll practice defining classes and instance methods."
      ]
    },
    {
      "cell_type": "markdown",
      "metadata": {
        "id": "0JKdEwyM_BAs"
      },
      "source": [
        "## Objectives\n",
        "\n",
        "You will be able to:\n",
        "\n",
        "* Define and call an instance method\n",
        "* Define and access instance attributes"
      ]
    },
    {
      "cell_type": "markdown",
      "metadata": {
        "id": "8k_0ituW_BAt"
      },
      "source": [
        "## Defining Classes and Instance Methods"
      ]
    },
    {
      "cell_type": "markdown",
      "metadata": {
        "id": "74BIJGT6_BAt"
      },
      "source": [
        "In the cell below define a `Driver` class.\n",
        "\n",
        "For this class, create a method called `greet_passenger()`, which returns the string `Hello! I'll be your driver today. My name is ` followed by that driver's first name and last name (i.e. `Hello! I'll be your driver today. My name is John Doe`). (Be sure to keep in mind that the driver's name will be stored under two separate attributes: first and last.)"
      ]
    },
    {
      "cell_type": "code",
      "execution_count": 7,
      "metadata": {
        "id": "yKfbGPA-_BAu"
      },
      "outputs": [],
      "source": [
        "# Define Driver Class here with properties for each instance variable\n",
        "class Driver():\n",
        "  def greet_passenger(self):\n",
        "    return f'hello I will be your driver today. my name is {self.first} {self.last}'\n"
      ]
    },
    {
      "cell_type": "markdown",
      "metadata": {
        "id": "KgI1iS8L_BAw"
      },
      "source": [
        "Great! Now create an instance of your driver class. Then, create the following attributes for your instance:\n",
        "* `first` - the first name of the driver. Set it to Matthew.\n",
        "* `last` - the last name of the driver. Set it to Mitchell.\n",
        "* `miles_driven` - the number of miles driven by the driver. Set it to 100.\n",
        "* `rating` - the driver's rating. Set it to 4.9\n",
        "\n",
        "Finally, use your `greet_passenger()` method for your `Driver` instance object."
      ]
    },
    {
      "cell_type": "code",
      "execution_count": 8,
      "metadata": {
        "id": "_eYFkUUN_BAx",
        "outputId": "76dafd10-882d-4b00-c15a-0056e67d8598",
        "colab": {
          "base_uri": "https://localhost:8080/",
          "height": 36
        }
      },
      "outputs": [
        {
          "output_type": "execute_result",
          "data": {
            "text/plain": [
              "'hello I will be your driver today. my name is Matthew Mitchell'"
            ],
            "application/vnd.google.colaboratory.intrinsic+json": {
              "type": "string"
            }
          },
          "metadata": {},
          "execution_count": 8
        }
      ],
      "source": [
        "# Create an instance with the above 4 attributes and then call the greet_passenger method\n",
        "Matthew = Driver()\n",
        "Matthew.first = \"Matthew\"\n",
        "Matthew.last = \"Mitchell\"\n",
        "Matthew.miles_driven = 100\n",
        "Matthew.rating = 4.9\n",
        "Matthew.greet_passenger()"
      ]
    },
    {
      "cell_type": "markdown",
      "metadata": {
        "id": "vrjOok6S_BAx"
      },
      "source": [
        "Now, create a passenger class with one method `yell_name()` which prints the passenger's first and last name in all caps. (Again first and last will be stored as separate attributes.)"
      ]
    },
    {
      "cell_type": "code",
      "execution_count": 26,
      "metadata": {
        "id": "5s90oQDU_BAy"
      },
      "outputs": [],
      "source": [
        "# Define Passenger Class here with properties for each instance variable\n",
        "class Passenger():\n",
        "  def yell_name(self):\n",
        "    return f'{self.first} {self.last}'\n"
      ]
    },
    {
      "cell_type": "markdown",
      "metadata": {
        "id": "HcPgf1iE_BAy"
      },
      "source": [
        "Create an instance of your passenger class. Then create an attribute \"first\" set to \"Ron\" and an attribute \"last\" set to \"Burgundy\". Then call the `yell_name()` method."
      ]
    },
    {
      "cell_type": "code",
      "execution_count": 28,
      "metadata": {
        "id": "64pqrCN-_BAz",
        "outputId": "46678213-1c46-49b2-865f-6658114157ab",
        "colab": {
          "base_uri": "https://localhost:8080/",
          "height": 36
        }
      },
      "outputs": [
        {
          "output_type": "execute_result",
          "data": {
            "text/plain": [
              "'RON BURGUNDY'"
            ],
            "application/vnd.google.colaboratory.intrinsic+json": {
              "type": "string"
            }
          },
          "metadata": {},
          "execution_count": 28
        }
      ],
      "source": [
        "# Create an instance of the passenger class with the first and last attributes. Then call the yell_name method\n",
        "Ron = Passenger()\n",
        "Passenger.first = \"RON\"\n",
        "Passenger.last = \"BURGUNDY\"\n",
        "\n",
        "Ron.yell_name()"
      ]
    },
    {
      "cell_type": "markdown",
      "metadata": {
        "id": "jI3iOpR6_BAz"
      },
      "source": [
        "Great work!"
      ]
    },
    {
      "cell_type": "markdown",
      "metadata": {
        "id": "c7-smbMS_BAz"
      },
      "source": [
        "## Summary\n",
        "In this lab, you practiced defining classes, creating instances of said classes, and using methods that made calls to object attributes."
      ]
    }
  ],
  "metadata": {
    "kernelspec": {
      "display_name": "Python 3",
      "language": "python",
      "name": "python3"
    },
    "language_info": {
      "codemirror_mode": {
        "name": "ipython",
        "version": 3
      },
      "file_extension": ".py",
      "mimetype": "text/x-python",
      "name": "python",
      "nbconvert_exporter": "python",
      "pygments_lexer": "ipython3",
      "version": "3.7.3"
    },
    "colab": {
      "provenance": []
    }
  },
  "nbformat": 4,
  "nbformat_minor": 0
}